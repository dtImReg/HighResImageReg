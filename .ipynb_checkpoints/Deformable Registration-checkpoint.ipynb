{
 "cells": [
  {
   "cell_type": "markdown",
   "metadata": {},
   "source": [
    "# Deformable Registration \n",
    "\n",
    "This uses the SITK framework: Initiate the registration method object,set a metric for measuring image simialrity, set the type of transformation you want to use, set the iterative optimization method you want to use (e.g. Stochastic Gradient Descent) and run to find the transform. The oupute is an object with multiple information - one of which is the transformation. In this code it is stored in outTxParams = outTx.GetParameters() - here this is just the cooefiecients of the B-Spline Approximations.\n",
    "\n",
    "\n",
    "See http://insightsoftwareconsortium.github.io/SimpleITK-Notebooks/, for more detailed information about the whole SITK package.\n",
    "\n",
    "### IMPORTANT!!!\n",
    "It is highly advised to perform the rigid transform before doing the the deforamble . Doing so produces better deformable registration, but also generates to images needed to perform the deformable registration. If you wish to perform the deformable only, please pre-process the images by eqaulizing the image histogram and if it is a high resolution image using a blur to denoise. \n",
    "\n",
    "Please provide the file_path to the hist-equalized images."
   ]
  },
  {
   "cell_type": "code",
   "execution_count": 2,
   "metadata": {
    "collapsed": true
   },
   "outputs": [],
   "source": [
    "import numpy as np\n",
    "import cv2\n",
    "import matplotlib\n",
    "from matplotlib import pyplot as plt\n",
    "import SimpleITK as sitk\n",
    "%matplotlib inline\n",
    "from ipywidgets import widgets\n",
    "from ipywidgets import fixed as fxd\n",
    "import sys\n",
    "import os\n",
    "import tools"
   ]
  },
  {
   "cell_type": "code",
   "execution_count": 1,
   "metadata": {
    "collapsed": true
   },
   "outputs": [],
   "source": [
    "FOLDER_PATH = ''\n",
    "FIXED_IMAGE_FILE_PATH = '' #Enter the MALDI optical image file path\n",
    "MOVING_IMAGE_FILE_PATH = '' #Enter the HandE image file path\n",
    "MOVING_IMAGE_FILE_PATH_NOHISTO = '' # This will be used when applying to transform to the non-histo-eqaulized image."
   ]
  },
  {
   "cell_type": "code",
   "execution_count": null,
   "metadata": {},
   "outputs": [
    {
     "name": "stdout",
     "output_type": "stream",
     "text": [
      "Initial Parameters:\n",
      "(0.0, 0.0, 0.0, 0.0, 0.0, 0.0, 0.0, 0.0, 0.0, 0.0, 0.0, 0.0, 0.0, 0.0, 0.0, 0.0, 0.0, 0.0, 0.0, 0.0, 0.0, 0.0, 0.0, 0.0, 0.0, 0.0, 0.0, 0.0, 0.0, 0.0, 0.0, 0.0, 0.0, 0.0, 0.0, 0.0, 0.0, 0.0, 0.0, 0.0, 0.0, 0.0, 0.0, 0.0, 0.0, 0.0, 0.0, 0.0, 0.0, 0.0, 0.0, 0.0, 0.0, 0.0, 0.0, 0.0, 0.0, 0.0, 0.0, 0.0, 0.0, 0.0, 0.0, 0.0, 0.0, 0.0, 0.0, 0.0, 0.0, 0.0, 0.0, 0.0, 0.0, 0.0, 0.0, 0.0, 0.0, 0.0, 0.0, 0.0, 0.0, 0.0, 0.0, 0.0, 0.0, 0.0, 0.0, 0.0, 0.0, 0.0, 0.0, 0.0, 0.0, 0.0, 0.0, 0.0, 0.0, 0.0, 0.0, 0.0, 0.0, 0.0, 0.0, 0.0, 0.0, 0.0, 0.0, 0.0, 0.0, 0.0, 0.0, 0.0, 0.0, 0.0, 0.0, 0.0, 0.0, 0.0, 0.0, 0.0, 0.0, 0.0, 0.0, 0.0, 0.0, 0.0, 0.0, 0.0, 0.0, 0.0, 0.0, 0.0, 0.0, 0.0, 0.0, 0.0, 0.0, 0.0, 0.0, 0.0, 0.0, 0.0, 0.0, 0.0, 0.0, 0.0, 0.0, 0.0, 0.0, 0.0, 0.0, 0.0, 0.0, 0.0, 0.0, 0.0, 0.0, 0.0, 0.0, 0.0, 0.0, 0.0, 0.0, 0.0, 0.0, 0.0, 0.0, 0.0, 0.0, 0.0, 0.0, 0.0, 0.0, 0.0, 0.0, 0.0, 0.0, 0.0, 0.0, 0.0, 0.0, 0.0, 0.0, 0.0, 0.0, 0.0, 0.0, 0.0, 0.0, 0.0, 0.0, 0.0, 0.0, 0.0, 0.0, 0.0, 0.0, 0.0, 0.0, 0.0, 0.0, 0.0, 0.0, 0.0, 0.0, 0.0, 0.0, 0.0, 0.0, 0.0, 0.0, 0.0, 0.0, 0.0, 0.0, 0.0, 0.0, 0.0, 0.0, 0.0, 0.0, 0.0, 0.0, 0.0, 0.0, 0.0, 0.0, 0.0, 0.0, 0.0, 0.0, 0.0, 0.0, 0.0, 0.0, 0.0, 0.0, 0.0, 0.0, 0.0, 0.0, 0.0, 0.0, 0.0, 0.0, 0.0, 0.0, 0.0, 0.0, 0.0, 0.0, 0.0, 0.0, 0.0, 0.0, 0.0, 0.0, 0.0, 0.0, 0.0, 0.0, 0.0, 0.0, 0.0, 0.0, 0.0, 0.0, 0.0, 0.0, 0.0, 0.0, 0.0, 0.0, 0.0, 0.0, 0.0, 0.0, 0.0, 0.0, 0.0, 0.0, 0.0, 0.0, 0.0, 0.0, 0.0, 0.0, 0.0, 0.0, 0.0, 0.0, 0.0, 0.0, 0.0, 0.0, 0.0, 0.0, 0.0, 0.0, 0.0, 0.0, 0.0, 0.0, 0.0, 0.0, 0.0, 0.0, 0.0, 0.0, 0.0, 0.0, 0.0, 0.0, 0.0, 0.0, 0.0, 0.0, 0.0, 0.0, 0.0, 0.0, 0.0, 0.0, 0.0, 0.0, 0.0, 0.0, 0.0, 0.0, 0.0, 0.0, 0.0, 0.0, 0.0, 0.0, 0.0, 0.0, 0.0)\n",
      "--------- Resolution Changing ---------\n",
      "  0 =   -0.75613\n",
      "('\\t#: ', 338)\n",
      "  1 =   -0.78408\n",
      "('\\t#: ', 338)\n",
      "  2 =   -0.79463\n",
      "('\\t#: ', 338)\n",
      "  3 =   -0.80128\n",
      "('\\t#: ', 338)\n",
      "  4 =   -0.80581\n",
      "('\\t#: ', 338)\n",
      "  5 =   -0.81076\n",
      "('\\t#: ', 338)\n",
      "  6 =   -0.81705\n",
      "('\\t#: ', 338)\n",
      "  7 =   -0.82424\n",
      "('\\t#: ', 338)\n",
      "  8 =   -0.83032\n",
      "('\\t#: ', 338)\n",
      "  9 =   -0.83599\n",
      "('\\t#: ', 338)\n",
      " 10 =   -0.83833\n",
      "('\\t#: ', 338)\n",
      " 11 =   -0.83944\n",
      "('\\t#: ', 338)\n",
      " 12 =   -0.84032\n",
      "('\\t#: ', 338)\n",
      " 13 =   -0.84102\n",
      "('\\t#: ', 338)\n",
      " 14 =   -0.84169\n",
      "('\\t#: ', 338)\n",
      " 15 =   -0.84274\n",
      "('\\t#: ', 338)\n",
      " 16 =   -0.84347\n",
      "('\\t#: ', 338)\n",
      " 17 =   -0.84414\n",
      "('\\t#: ', 338)\n",
      " 18 =   -0.84466\n",
      "('\\t#: ', 338)\n",
      " 19 =   -0.84509\n",
      "('\\t#: ', 338)\n",
      "--------- Resolution Changing ---------\n",
      "  0 =   -0.83102\n",
      "('\\t#: ', 338)\n",
      "  1 =   -0.83167\n",
      "('\\t#: ', 338)\n",
      "  2 =   -0.83210\n",
      "('\\t#: ', 338)\n",
      "  3 =   -0.83246\n",
      "('\\t#: ', 338)\n"
     ]
    }
   ],
   "source": [
    "\n",
    "fixed = sitk.ReadImage(FIXED_IMAGE_FILE_PATH, sitk.sitkFloat32)\n",
    "\n",
    "moving = sitk.ReadImage(MOVING_IMAGE_FILE_PATH, sitk.sitkFloat32)\n",
    "\n",
    "moving1 = sitk.ReadImage(MOVING_IMAGE_FILE_PATH_NOHISTO) # This will be used when applying to transform to the non-histo-eqaulized image.\n",
    "\n",
    "def command_iteration(method) :\n",
    "    print(\"{0:3} = {1:10.5f}\".format(method.GetOptimizerIteration(),\n",
    "                                     method.GetMetricValue()))\n",
    "    print(\"\\t#: \", len(method.GetOptimizerPosition()))\n",
    "\n",
    "\n",
    "def command_multi_iteration(method) :\n",
    "    print(\"--------- Resolution Changing ---------\")\n",
    "\n",
    "\n",
    "\n",
    "transformDomainMeshSize=[10]*moving.GetDimension()\n",
    "tx = sitk.BSplineTransformInitializer(fixed,\n",
    "                                      transformDomainMeshSize )\n",
    "\n",
    "print(\"Initial Parameters:\");\n",
    "print(tx.GetParameters())\n",
    "\n",
    "R = sitk.ImageRegistrationMethod()\n",
    "R.SetMetricAsMattesMutualInformation(50)\n",
    "R.SetOptimizerAsGradientDescentLineSearch(5.0, 100,\n",
    "                                          convergenceMinimumValue=1e-4,\n",
    "                                          convergenceWindowSize=5)\n",
    "R.SetOptimizerScalesFromPhysicalShift( )\n",
    "R.SetInitialTransform(tx)\n",
    "R.SetInterpolator(sitk.sitkLinear)\n",
    "\n",
    "R.SetShrinkFactorsPerLevel([6,2,1])\n",
    "R.SetSmoothingSigmasPerLevel([6,2,1])\n",
    "\n",
    "R.AddCommand( sitk.sitkIterationEvent, lambda: command_iteration(R) )\n",
    "R.AddCommand( sitk.sitkMultiResolutionIterationEvent, lambda: command_multi_iteration(R) )\n",
    "\n",
    "outTx = R.Execute(fixed, moving)\n",
    "\n",
    "print(\"-------\")\n",
    "print(outTx)\n",
    "print(\"Optimizer stop condition: {0}\".format(R.GetOptimizerStopConditionDescription()))\n",
    "print(\" Iteration: {0}\".format(R.GetOptimizerIteration()))\n",
    "print(\" Metric value: {0}\".format(R.GetMetricValue()))"
   ]
  },
  {
   "cell_type": "code",
   "execution_count": 17,
   "metadata": {
    "collapsed": true
   },
   "outputs": [],
   "source": [
    "if ( not \"SITK_NOSHOW\" in os.environ ):\n",
    "\n",
    "    resampler = sitk.ResampleImageFilter()\n",
    "    resampler.SetReferenceImage(fixed);\n",
    "    resampler.SetInterpolator(sitk.sitkLinear)\n",
    "    resampler.SetDefaultPixelValue(100)\n",
    "    resampler.SetTransform(outTx)\n",
    "\n",
    "    out = resampler.Execute(moving)\n",
    "    out1 = resampler.Execute(moving1)\n",
    "    simg1 = sitk.Cast(sitk.RescaleIntensity(fixed), sitk.sitkUInt8)\n",
    "    simg2 = sitk.Cast(sitk.RescaleIntensity(out), sitk.sitkUInt8)\n",
    "    cimg = sitk.Compose(simg1, simg2, simg1//2.+simg2//2.)\n",
    "    sitk.WriteImage(out1, FOLDER_PATH + 'BSPLINEREgImage.png')\n",
    "    sitk.WriteImage(cimg,FOLDER_PATH + 'BSPLINEOverLay.jpg')"
   ]
  },
  {
   "cell_type": "code",
   "execution_count": null,
   "metadata": {
    "collapsed": true
   },
   "outputs": [],
   "source": [
    "testTx = outTx\n"
   ]
  },
  {
   "cell_type": "code",
   "execution_count": 12,
   "metadata": {},
   "outputs": [
    {
     "data": {
      "application/vnd.jupyter.widget-view+json": {
       "model_id": "625f4fa8d77d4e8ea5c9b8a506d75ff1"
      }
     },
     "metadata": {},
     "output_type": "display_data"
    },
    {
     "data": {
      "text/plain": [
       "<function __main__.functionss>"
      ]
     },
     "execution_count": 12,
     "metadata": {},
     "output_type": "execute_result"
    }
   ],
   "source": [
    "def functionss(s,txParams,aoutTx):\n",
    "    newTx = aoutTx\n",
    "    newTx.SetParameters(tuple(s*x for x in outTxParams))\n",
    "    \n",
    "    resampler = sitk.ResampleImageFilter()\n",
    "    resampler.SetReferenceImage(fixed);\n",
    "    resampler.SetInterpolator(sitk.sitkLinear)\n",
    "    resampler.SetDefaultPixelValue(255)\n",
    "    resampler.SetTransform(newTx)\n",
    "    \n",
    "    out = resampler.Execute(moving1) #Change to moving1 if you want the image output\n",
    "    \n",
    "    plt.figure(figsize=(12, 12))\n",
    "    \n",
    "    nda = sitk.GetArrayViewFromImage(out)\n",
    "    plt.imshow(nda)\n",
    "    plt.show()\n",
    "    \n",
    "\n",
    "    \n",
    "outTxParams = outTx.GetParameters()\n",
    "widgets.interact(functionss, s= (0,1.5,0.1),txParams = fxd(outTxParams),aoutTx = fxd(outTx))"
   ]
  }
 ],
 "metadata": {
  "kernelspec": {
   "display_name": "Python 2",
   "language": "python",
   "name": "python2"
  },
  "language_info": {
   "codemirror_mode": {
    "name": "ipython",
    "version": 2
   },
   "file_extension": ".py",
   "mimetype": "text/x-python",
   "name": "python",
   "nbconvert_exporter": "python",
   "pygments_lexer": "ipython2",
   "version": "2.7.13"
  }
 },
 "nbformat": 4,
 "nbformat_minor": 2
}
